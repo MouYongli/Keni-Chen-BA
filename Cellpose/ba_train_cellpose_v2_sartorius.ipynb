{
 "cells": [
  {
   "cell_type": "code",
   "execution_count": 8,
   "metadata": {},
   "outputs": [],
   "source": [
    "import os\n",
    "import os.path as osp\n",
    "import numpy as np\n",
    "import pandas as pd\n",
    "import torch\n",
    "from cellpose_v2.models import CellposeModel, Cellpose\n",
    "from cellpose_v2.io import load_train_test_data"
   ]
  },
  {
   "cell_type": "code",
   "execution_count": 2,
   "metadata": {},
   "outputs": [],
   "source": [
    "BASE_PATH = \"../Data/Cellpose/Sartorius\"\n",
    "EXP_PATH = \"../Experiments\"\n",
    "MODEL = \"cellpose_v2\"\n",
    "DATASET = \"sartorius\"\n",
    "\n",
    "## TODO\n",
    "# osp.join(EXP_PATH, \"{}_{}\".format(MODEL, DATASET))\n",
    "save_path = \"./run\""
   ]
  },
  {
   "cell_type": "code",
   "execution_count": 3,
   "metadata": {},
   "outputs": [],
   "source": [
    "train_dir = osp.join(BASE_PATH, \"train\")\n",
    "test_dir = osp.join(BASE_PATH, \"val\")\n",
    "output = load_train_test_data(train_dir, test_dir=test_dir, mask_filter='_mask')\n",
    "images, labels, image_names, test_images, test_labels, image_names_test = output\n",
    "images = [np.concatenate((images[i], np.zeros(images[i].shape)), axis=2).transpose(2, 0, 1) for i in range(len(images))]\n",
    "labels = [labels[i][0].astype(int) for i in range(len(labels))]\n",
    "test_images = [np.concatenate((test_images[i], np.zeros(test_images[i].shape)), axis=2).transpose(2, 0, 1) for i in range(len(test_images))]\n",
    "test_labels = [test_labels[i][0].astype(int) for i in range(len(test_labels))]"
   ]
  },
  {
   "cell_type": "code",
   "execution_count": 4,
   "metadata": {},
   "outputs": [
    {
     "name": "stdout",
     "output_type": "stream",
     "text": [
      "(2, 520, 704) (520, 704)\n"
     ]
    }
   ],
   "source": [
    "print(images[0].shape, labels[0].shape)"
   ]
  },
  {
   "cell_type": "code",
   "execution_count": 5,
   "metadata": {},
   "outputs": [
    {
     "name": "stdout",
     "output_type": "stream",
     "text": [
      "None\n"
     ]
    }
   ],
   "source": [
    "model = CellposeModel(gpu=True, pretrained_model=None,  net_avg=False, diam_mean=17., device=None, residual_on=True, style_on=True, concatenation=False, nchan=2)    "
   ]
  },
  {
   "cell_type": "code",
   "execution_count": 16,
   "metadata": {},
   "outputs": [],
   "source": [
    "x = torch.from_numpy(np.array(images[0:4])).cuda().float()\n",
    "y, style = model.net(x)"
   ]
  },
  {
   "cell_type": "code",
   "execution_count": 17,
   "metadata": {},
   "outputs": [
    {
     "data": {
      "text/plain": [
       "torch.Size([4, 9, 520, 704])"
      ]
     },
     "execution_count": 17,
     "metadata": {},
     "output_type": "execute_result"
    }
   ],
   "source": [
    "y.shape"
   ]
  },
  {
   "cell_type": "code",
   "execution_count": null,
   "metadata": {},
   "outputs": [],
   "source": []
  }
 ],
 "metadata": {
  "kernelspec": {
   "display_name": "Python 3",
   "language": "python",
   "name": "python3"
  },
  "language_info": {
   "codemirror_mode": {
    "name": "ipython",
    "version": 3
   },
   "file_extension": ".py",
   "mimetype": "text/x-python",
   "name": "python",
   "nbconvert_exporter": "python",
   "pygments_lexer": "ipython3",
   "version": "3.8.5"
  }
 },
 "nbformat": 4,
 "nbformat_minor": 4
}
